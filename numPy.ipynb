{
  "nbformat": 4,
  "nbformat_minor": 0,
  "metadata": {
    "colab": {
      "provenance": [],
      "authorship_tag": "ABX9TyOYXr4imZgzC6hlGDaTC6o5",
      "include_colab_link": true
    },
    "kernelspec": {
      "name": "python3",
      "display_name": "Python 3"
    },
    "language_info": {
      "name": "python"
    }
  },
  "cells": [
    {
      "cell_type": "markdown",
      "metadata": {
        "id": "view-in-github",
        "colab_type": "text"
      },
      "source": [
        "<a href=\"https://colab.research.google.com/github/vasudevnethikar-design/sample-data-structure/blob/main/numPy.ipynb\" target=\"_parent\"><img src=\"https://colab.research.google.com/assets/colab-badge.svg\" alt=\"Open In Colab\"/></a>"
      ]
    },
    {
      "cell_type": "markdown",
      "source": [
        "**IMPORT NUMPY IN PYTHON**"
      ],
      "metadata": {
        "id": "LaMBiP8K48SM"
      }
    },
    {
      "cell_type": "code",
      "source": [
        "import numpy as np\n"
      ],
      "metadata": {
        "id": "BmII3X835H4E"
      },
      "execution_count": null,
      "outputs": []
    },
    {
      "cell_type": "markdown",
      "source": [
        "**numpy array creation**"
      ],
      "metadata": {
        "id": "fFpyXg9c5Scd"
      }
    },
    {
      "cell_type": "code",
      "source": [
        "list1 = [1,2,3,4,5,56]\n",
        "array1=np.array(list1)\n",
        "print(array1)"
      ],
      "metadata": {
        "colab": {
          "base_uri": "https://localhost:8080/"
        },
        "id": "WEtrMc0M5Xfk",
        "outputId": "3b41dbcc-89b8-4ded-d222-b472326d967f"
      },
      "execution_count": null,
      "outputs": [
        {
          "output_type": "stream",
          "name": "stdout",
          "text": [
            "[ 1  2  3  4  5 56]\n"
          ]
        }
      ]
    },
    {
      "cell_type": "code",
      "source": [
        "array2=np.array([1,4,2,3])\n",
        "print(array2)"
      ],
      "metadata": {
        "colab": {
          "base_uri": "https://localhost:8080/"
        },
        "id": "u4oRemWu6cRw",
        "outputId": "a3405349-220a-4ea0-91f3-721b3e04c60f"
      },
      "execution_count": null,
      "outputs": [
        {
          "output_type": "stream",
          "name": "stdout",
          "text": [
            "[1 4 2 3]\n"
          ]
        }
      ]
    },
    {
      "cell_type": "markdown",
      "source": [
        "**create a 2d array**"
      ],
      "metadata": {
        "id": "gDV4-QH26wsv"
      }
    },
    {
      "cell_type": "code",
      "source": [
        "array3=np.array([[1,2,3,4],[4,3,21,0]])\n",
        "print(array3)"
      ],
      "metadata": {
        "colab": {
          "base_uri": "https://localhost:8080/"
        },
        "id": "vYqcNU287Fn9",
        "outputId": "dc7a1cd7-895d-4106-fdda-66972ac9ebbd"
      },
      "execution_count": null,
      "outputs": [
        {
          "output_type": "stream",
          "name": "stdout",
          "text": [
            "[[ 1  2  3  4]\n",
            " [ 4  3 21  0]]\n"
          ]
        }
      ]
    },
    {
      "cell_type": "markdown",
      "source": [
        "**create a 3d array**"
      ],
      "metadata": {
        "id": "qKdUwYnt74no"
      }
    },
    {
      "cell_type": "code",
      "source": [
        "array4=np.array([[[1,2,3,4],[4,3,2,1],[3,4,2,1]],[[1,5,6,7],[7,6,5,4],[5,4,3,2]]])\n",
        "print(array4)"
      ],
      "metadata": {
        "colab": {
          "base_uri": "https://localhost:8080/"
        },
        "id": "rb5WKSDI78Gg",
        "outputId": "673e6403-f2a7-4c74-f723-e5948f5df544"
      },
      "execution_count": null,
      "outputs": [
        {
          "output_type": "stream",
          "name": "stdout",
          "text": [
            "[[[1 2 3 4]\n",
            "  [4 3 2 1]\n",
            "  [3 4 2 1]]\n",
            "\n",
            " [[1 5 6 7]\n",
            "  [7 6 5 4]\n",
            "  [5 4 3 2]]]\n"
          ]
        }
      ]
    },
    {
      "cell_type": "markdown",
      "source": [
        "**check the data type of array**"
      ],
      "metadata": {
        "id": "9TowjYri8xNq"
      }
    },
    {
      "cell_type": "code",
      "source": [
        "print(array3.dtype)"
      ],
      "metadata": {
        "colab": {
          "base_uri": "https://localhost:8080/"
        },
        "id": "m8E5ltsb851f",
        "outputId": "d9ed6f66-6838-464a-9df7-6783be903b3a"
      },
      "execution_count": null,
      "outputs": [
        {
          "output_type": "stream",
          "name": "stdout",
          "text": [
            "int64\n"
          ]
        }
      ]
    },
    {
      "cell_type": "markdown",
      "source": [
        "**to check the dimensions of array **"
      ],
      "metadata": {
        "id": "fXyrKl-j9M0X"
      }
    },
    {
      "cell_type": "code",
      "source": [
        "print(array1.ndim)\n",
        "print(array2.ndim)\n",
        "print(array3.ndim)\n",
        "print(array4.ndim)\n"
      ],
      "metadata": {
        "colab": {
          "base_uri": "https://localhost:8080/",
          "height": 193
        },
        "id": "XrfDs0639Sa_",
        "outputId": "3528b3b8-959d-4d8a-a317-8a715f792a5d"
      },
      "execution_count": null,
      "outputs": [
        {
          "output_type": "error",
          "ename": "NameError",
          "evalue": "name 'array1' is not defined",
          "traceback": [
            "\u001b[0;31m---------------------------------------------------------------------------\u001b[0m",
            "\u001b[0;31mNameError\u001b[0m                                 Traceback (most recent call last)",
            "\u001b[0;32m/tmp/ipython-input-372786928.py\u001b[0m in \u001b[0;36m<cell line: 0>\u001b[0;34m()\u001b[0m\n\u001b[0;32m----> 1\u001b[0;31m \u001b[0mprint\u001b[0m\u001b[0;34m(\u001b[0m\u001b[0marray1\u001b[0m\u001b[0;34m.\u001b[0m\u001b[0mndim\u001b[0m\u001b[0;34m)\u001b[0m\u001b[0;34m\u001b[0m\u001b[0;34m\u001b[0m\u001b[0m\n\u001b[0m\u001b[1;32m      2\u001b[0m \u001b[0mprint\u001b[0m\u001b[0;34m(\u001b[0m\u001b[0marray2\u001b[0m\u001b[0;34m.\u001b[0m\u001b[0mndim\u001b[0m\u001b[0;34m)\u001b[0m\u001b[0;34m\u001b[0m\u001b[0;34m\u001b[0m\u001b[0m\n\u001b[1;32m      3\u001b[0m \u001b[0mprint\u001b[0m\u001b[0;34m(\u001b[0m\u001b[0marray3\u001b[0m\u001b[0;34m.\u001b[0m\u001b[0mndim\u001b[0m\u001b[0;34m)\u001b[0m\u001b[0;34m\u001b[0m\u001b[0;34m\u001b[0m\u001b[0m\n\u001b[1;32m      4\u001b[0m \u001b[0mprint\u001b[0m\u001b[0;34m(\u001b[0m\u001b[0marray4\u001b[0m\u001b[0;34m.\u001b[0m\u001b[0mndim\u001b[0m\u001b[0;34m)\u001b[0m\u001b[0;34m\u001b[0m\u001b[0;34m\u001b[0m\u001b[0m\n",
            "\u001b[0;31mNameError\u001b[0m: name 'array1' is not defined"
          ]
        }
      ]
    },
    {
      "cell_type": "markdown",
      "source": [
        "**To check the size  of array**"
      ],
      "metadata": {
        "id": "-pbiAlQO9rOR"
      }
    },
    {
      "cell_type": "code",
      "source": [
        "print(array1.size)\n",
        "print(array2.size)\n",
        "print(array3.size)\n",
        "print(array4.size)\n",
        "\n",
        "\n",
        "\n",
        "\n",
        "\n"
      ],
      "metadata": {
        "colab": {
          "base_uri": "https://localhost:8080/"
        },
        "id": "Ab65wVdr90Ke",
        "outputId": "a45a64f9-b31b-469c-f51b-804a3056ed6b"
      },
      "execution_count": null,
      "outputs": [
        {
          "output_type": "stream",
          "name": "stdout",
          "text": [
            "6\n",
            "4\n",
            "8\n",
            "24\n"
          ]
        }
      ]
    },
    {
      "cell_type": "markdown",
      "source": [
        "**numpy shape attribute**"
      ],
      "metadata": {
        "id": "j1Zh7Z51-Qpl"
      }
    },
    {
      "cell_type": "code",
      "source": [
        "print(array2.shape)\n",
        "print(array3.shape)\n",
        "print(array4.shape)"
      ],
      "metadata": {
        "colab": {
          "base_uri": "https://localhost:8080/"
        },
        "id": "AckvHbBT-ViO",
        "outputId": "4c889c6f-6a56-43f8-fea2-01b7e61c37fe"
      },
      "execution_count": null,
      "outputs": [
        {
          "output_type": "stream",
          "name": "stdout",
          "text": [
            "(4,)\n",
            "(2, 4)\n",
            "(2, 3, 4)\n"
          ]
        }
      ]
    },
    {
      "cell_type": "markdown",
      "source": [
        "**numpy array itemsize**"
      ],
      "metadata": {
        "id": "S7QLYc_1-9WL"
      }
    },
    {
      "cell_type": "code",
      "source": [
        "print(array2.itemsize)\n",
        "print(array3.itemsize)\n",
        "print(array4.itemsize)"
      ],
      "metadata": {
        "colab": {
          "base_uri": "https://localhost:8080/"
        },
        "id": "-KzpvUfq_DPS",
        "outputId": "51f6d191-855c-470c-8f71-774c07b6aa95"
      },
      "execution_count": null,
      "outputs": [
        {
          "output_type": "stream",
          "name": "stdout",
          "text": [
            "8\n",
            "8\n",
            "8\n"
          ]
        }
      ]
    },
    {
      "cell_type": "code",
      "source": [
        "array2=np.array([1,2,3,4],dtype=np.int32)\n",
        "print(array2.itemsize)"
      ],
      "metadata": {
        "colab": {
          "base_uri": "https://localhost:8080/"
        },
        "id": "bgLXEZwC_ySh",
        "outputId": "a8e4d804-cbab-4ed5-ea4d-a04a7cff7745"
      },
      "execution_count": null,
      "outputs": [
        {
          "output_type": "stream",
          "name": "stdout",
          "text": [
            "4\n"
          ]
        }
      ]
    },
    {
      "cell_type": "markdown",
      "source": [
        "**Data attribute**"
      ],
      "metadata": {
        "id": "whmgBskSAM0b"
      }
    },
    {
      "cell_type": "code",
      "source": [
        "print(\"data of array2 is at \",array2.data)"
      ],
      "metadata": {
        "colab": {
          "base_uri": "https://localhost:8080/"
        },
        "id": "coCst1GsAQUs",
        "outputId": "17c2f819-2e22-4cec-af20-a6bd65f36132"
      },
      "execution_count": null,
      "outputs": [
        {
          "output_type": "stream",
          "name": "stdout",
          "text": [
            "data of array2 is at  <memory at 0x7c0290a3de40>\n"
          ]
        }
      ]
    },
    {
      "cell_type": "markdown",
      "source": [
        "**array numpy index modification**"
      ],
      "metadata": {
        "id": "Tyi-0wcVAsC5"
      }
    },
    {
      "cell_type": "code",
      "source": [
        "print(array2[-1])\n",
        "array1[2]=14\n",
        "print(array1)"
      ],
      "metadata": {
        "colab": {
          "base_uri": "https://localhost:8080/"
        },
        "id": "N9NI8JIWAu_f",
        "outputId": "a824f9ef-b31d-4fae-9363-9880d486dce1"
      },
      "execution_count": null,
      "outputs": [
        {
          "output_type": "stream",
          "name": "stdout",
          "text": [
            "4\n",
            "[ 1  2 14  4  5 56]\n"
          ]
        }
      ]
    },
    {
      "cell_type": "markdown",
      "source": [
        "**compute mean using numpy **"
      ],
      "metadata": {
        "id": "MkdF1drKxlqm"
      }
    },
    {
      "cell_type": "code",
      "source": [
        "import numpy as np\n"
      ],
      "metadata": {
        "id": "l7sMJlORxpWz"
      },
      "execution_count": null,
      "outputs": []
    },
    {
      "cell_type": "code",
      "source": [
        "marks = np.array([15,20,30,43,51,60])\n",
        "print(\"mean value is\")\n",
        "print(np.mean(marks))\n",
        "print(\"midena value is\")\n",
        "print(np.median(marks))\n",
        "print(\"standard value is\")\n",
        "print(np.std(marks))"
      ],
      "metadata": {
        "colab": {
          "base_uri": "https://localhost:8080/"
        },
        "id": "3nebkmqMyDHj",
        "outputId": "80c0cc0e-ee27-4d34-e7ab-62bb3fd2802a"
      },
      "execution_count": null,
      "outputs": [
        {
          "output_type": "stream",
          "name": "stdout",
          "text": [
            "mean value is\n",
            "36.5\n",
            "midena value is\n",
            "36.5\n",
            "standard value is\n",
            "16.235249715767644\n"
          ]
        }
      ]
    },
    {
      "cell_type": "code",
      "source": [
        "print(\"for prcentage is\")\n",
        "print(np.percentile(marks,77))"
      ],
      "metadata": {
        "colab": {
          "base_uri": "https://localhost:8080/"
        },
        "id": "Gtmtq1ClztTJ",
        "outputId": "9a50045d-779e-47d6-82dd-ad08d401e950"
      },
      "execution_count": null,
      "outputs": [
        {
          "output_type": "stream",
          "name": "stdout",
          "text": [
            "for prcentage is\n",
            "49.8\n"
          ]
        }
      ]
    },
    {
      "cell_type": "code",
      "source": [
        "print(\"min value and max value\")\n",
        "print(np.min(marks))\n",
        "print(\"max value and max value\")\n",
        "print(np.max(marks))\n",
        "\n"
      ],
      "metadata": {
        "colab": {
          "base_uri": "https://localhost:8080/"
        },
        "id": "iN_4O38F0Nd0",
        "outputId": "59fbc7f6-a2e6-4934-ad93-cff59fa65464"
      },
      "execution_count": null,
      "outputs": [
        {
          "output_type": "stream",
          "name": "stdout",
          "text": [
            "min value and max value\n",
            "15\n",
            "max value and max value\n",
            "60\n"
          ]
        }
      ]
    },
    {
      "cell_type": "code",
      "metadata": {
        "id": "37d12b25"
      },
      "source": [
        "list1 = [1,2,3,4,5,56]\n",
        "array1=np.array(list1)\n",
        "array2=np.array([1,4,2,3])\n",
        "array3=np.array([[1,2,3,4],[4,3,21,0]])\n",
        "array4=np.array([[[1,2,3,4],[4,3,2,1],[3,4,2,1]],[[1,5,6,7],[7,6,5,4],[5,4,3,2]]])"
      ],
      "execution_count": null,
      "outputs": []
    },
    {
      "cell_type": "code",
      "metadata": {
        "colab": {
          "base_uri": "https://localhost:8080/"
        },
        "id": "535b5f4f",
        "outputId": "8c80942b-dcdc-44ad-83f1-8268f6dd9fe2"
      },
      "source": [
        "print(array1.ndim)\n",
        "print(array2.ndim)\n",
        "print(array3.ndim)\n",
        "print(array4.ndim)\n",
        "print(array1.nbytes)"
      ],
      "execution_count": null,
      "outputs": [
        {
          "output_type": "stream",
          "name": "stdout",
          "text": [
            "1\n",
            "1\n",
            "2\n",
            "3\n",
            "48\n"
          ]
        }
      ]
    },
    {
      "cell_type": "code",
      "source": [],
      "metadata": {
        "id": "WgH88cY81l74"
      },
      "execution_count": null,
      "outputs": []
    }
  ]
}